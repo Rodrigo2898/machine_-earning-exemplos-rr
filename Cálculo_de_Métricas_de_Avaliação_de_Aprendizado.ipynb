{
  "nbformat": 4,
  "nbformat_minor": 0,
  "metadata": {
    "colab": {
      "provenance": [],
      "authorship_tag": "ABX9TyO0Br1yGNIUWexMoCJoB52J",
      "include_colab_link": true
    },
    "kernelspec": {
      "name": "python3",
      "display_name": "Python 3"
    },
    "language_info": {
      "name": "python"
    }
  },
  "cells": [
    {
      "cell_type": "markdown",
      "metadata": {
        "id": "view-in-github",
        "colab_type": "text"
      },
      "source": [
        "<a href=\"https://colab.research.google.com/github/Rodrigo2898/machine_-earning-exemplos-rr/blob/main/C%C3%A1lculo_de_M%C3%A9tricas_de_Avalia%C3%A7%C3%A3o_de_Aprendizado.ipynb\" target=\"_parent\"><img src=\"https://colab.research.google.com/assets/colab-badge.svg\" alt=\"Open In Colab\"/></a>"
      ]
    },
    {
      "cell_type": "code",
      "execution_count": null,
      "metadata": {
        "colab": {
          "base_uri": "https://localhost:8080/"
        },
        "id": "Z5OEGrBP3HyM",
        "outputId": "6b375c07-e3d3-465a-d05a-4bd539f621ba"
      },
      "outputs": [
        {
          "output_type": "stream",
          "name": "stdout",
          "text": [
            "Requirement already satisfied: tensorflow in /usr/local/lib/python3.10/dist-packages (2.15.0)\n",
            "Requirement already satisfied: absl-py>=1.0.0 in /usr/local/lib/python3.10/dist-packages (from tensorflow) (1.4.0)\n",
            "Requirement already satisfied: astunparse>=1.6.0 in /usr/local/lib/python3.10/dist-packages (from tensorflow) (1.6.3)\n",
            "Requirement already satisfied: flatbuffers>=23.5.26 in /usr/local/lib/python3.10/dist-packages (from tensorflow) (24.3.25)\n",
            "Requirement already satisfied: gast!=0.5.0,!=0.5.1,!=0.5.2,>=0.2.1 in /usr/local/lib/python3.10/dist-packages (from tensorflow) (0.5.4)\n",
            "Requirement already satisfied: google-pasta>=0.1.1 in /usr/local/lib/python3.10/dist-packages (from tensorflow) (0.2.0)\n",
            "Requirement already satisfied: h5py>=2.9.0 in /usr/local/lib/python3.10/dist-packages (from tensorflow) (3.9.0)\n",
            "Requirement already satisfied: libclang>=13.0.0 in /usr/local/lib/python3.10/dist-packages (from tensorflow) (18.1.1)\n",
            "Requirement already satisfied: ml-dtypes~=0.2.0 in /usr/local/lib/python3.10/dist-packages (from tensorflow) (0.2.0)\n",
            "Requirement already satisfied: numpy<2.0.0,>=1.23.5 in /usr/local/lib/python3.10/dist-packages (from tensorflow) (1.25.2)\n",
            "Requirement already satisfied: opt-einsum>=2.3.2 in /usr/local/lib/python3.10/dist-packages (from tensorflow) (3.3.0)\n",
            "Requirement already satisfied: packaging in /usr/local/lib/python3.10/dist-packages (from tensorflow) (24.0)\n",
            "Requirement already satisfied: protobuf!=4.21.0,!=4.21.1,!=4.21.2,!=4.21.3,!=4.21.4,!=4.21.5,<5.0.0dev,>=3.20.3 in /usr/local/lib/python3.10/dist-packages (from tensorflow) (3.20.3)\n",
            "Requirement already satisfied: setuptools in /usr/local/lib/python3.10/dist-packages (from tensorflow) (67.7.2)\n",
            "Requirement already satisfied: six>=1.12.0 in /usr/local/lib/python3.10/dist-packages (from tensorflow) (1.16.0)\n",
            "Requirement already satisfied: termcolor>=1.1.0 in /usr/local/lib/python3.10/dist-packages (from tensorflow) (2.4.0)\n",
            "Requirement already satisfied: typing-extensions>=3.6.6 in /usr/local/lib/python3.10/dist-packages (from tensorflow) (4.11.0)\n",
            "Requirement already satisfied: wrapt<1.15,>=1.11.0 in /usr/local/lib/python3.10/dist-packages (from tensorflow) (1.14.1)\n",
            "Requirement already satisfied: tensorflow-io-gcs-filesystem>=0.23.1 in /usr/local/lib/python3.10/dist-packages (from tensorflow) (0.37.0)\n",
            "Requirement already satisfied: grpcio<2.0,>=1.24.3 in /usr/local/lib/python3.10/dist-packages (from tensorflow) (1.63.0)\n",
            "Requirement already satisfied: tensorboard<2.16,>=2.15 in /usr/local/lib/python3.10/dist-packages (from tensorflow) (2.15.2)\n",
            "Requirement already satisfied: tensorflow-estimator<2.16,>=2.15.0 in /usr/local/lib/python3.10/dist-packages (from tensorflow) (2.15.0)\n",
            "Requirement already satisfied: keras<2.16,>=2.15.0 in /usr/local/lib/python3.10/dist-packages (from tensorflow) (2.15.0)\n",
            "Requirement already satisfied: wheel<1.0,>=0.23.0 in /usr/local/lib/python3.10/dist-packages (from astunparse>=1.6.0->tensorflow) (0.43.0)\n",
            "Requirement already satisfied: google-auth<3,>=1.6.3 in /usr/local/lib/python3.10/dist-packages (from tensorboard<2.16,>=2.15->tensorflow) (2.27.0)\n",
            "Requirement already satisfied: google-auth-oauthlib<2,>=0.5 in /usr/local/lib/python3.10/dist-packages (from tensorboard<2.16,>=2.15->tensorflow) (1.2.0)\n",
            "Requirement already satisfied: markdown>=2.6.8 in /usr/local/lib/python3.10/dist-packages (from tensorboard<2.16,>=2.15->tensorflow) (3.6)\n",
            "Requirement already satisfied: requests<3,>=2.21.0 in /usr/local/lib/python3.10/dist-packages (from tensorboard<2.16,>=2.15->tensorflow) (2.31.0)\n",
            "Requirement already satisfied: tensorboard-data-server<0.8.0,>=0.7.0 in /usr/local/lib/python3.10/dist-packages (from tensorboard<2.16,>=2.15->tensorflow) (0.7.2)\n",
            "Requirement already satisfied: werkzeug>=1.0.1 in /usr/local/lib/python3.10/dist-packages (from tensorboard<2.16,>=2.15->tensorflow) (3.0.3)\n",
            "Requirement already satisfied: cachetools<6.0,>=2.0.0 in /usr/local/lib/python3.10/dist-packages (from google-auth<3,>=1.6.3->tensorboard<2.16,>=2.15->tensorflow) (5.3.3)\n",
            "Requirement already satisfied: pyasn1-modules>=0.2.1 in /usr/local/lib/python3.10/dist-packages (from google-auth<3,>=1.6.3->tensorboard<2.16,>=2.15->tensorflow) (0.4.0)\n",
            "Requirement already satisfied: rsa<5,>=3.1.4 in /usr/local/lib/python3.10/dist-packages (from google-auth<3,>=1.6.3->tensorboard<2.16,>=2.15->tensorflow) (4.9)\n",
            "Requirement already satisfied: requests-oauthlib>=0.7.0 in /usr/local/lib/python3.10/dist-packages (from google-auth-oauthlib<2,>=0.5->tensorboard<2.16,>=2.15->tensorflow) (1.3.1)\n",
            "Requirement already satisfied: charset-normalizer<4,>=2 in /usr/local/lib/python3.10/dist-packages (from requests<3,>=2.21.0->tensorboard<2.16,>=2.15->tensorflow) (3.3.2)\n",
            "Requirement already satisfied: idna<4,>=2.5 in /usr/local/lib/python3.10/dist-packages (from requests<3,>=2.21.0->tensorboard<2.16,>=2.15->tensorflow) (3.7)\n",
            "Requirement already satisfied: urllib3<3,>=1.21.1 in /usr/local/lib/python3.10/dist-packages (from requests<3,>=2.21.0->tensorboard<2.16,>=2.15->tensorflow) (2.0.7)\n",
            "Requirement already satisfied: certifi>=2017.4.17 in /usr/local/lib/python3.10/dist-packages (from requests<3,>=2.21.0->tensorboard<2.16,>=2.15->tensorflow) (2024.2.2)\n",
            "Requirement already satisfied: MarkupSafe>=2.1.1 in /usr/local/lib/python3.10/dist-packages (from werkzeug>=1.0.1->tensorboard<2.16,>=2.15->tensorflow) (2.1.5)\n",
            "Requirement already satisfied: pyasn1<0.7.0,>=0.4.6 in /usr/local/lib/python3.10/dist-packages (from pyasn1-modules>=0.2.1->google-auth<3,>=1.6.3->tensorboard<2.16,>=2.15->tensorflow) (0.6.0)\n",
            "Requirement already satisfied: oauthlib>=3.0.0 in /usr/local/lib/python3.10/dist-packages (from requests-oauthlib>=0.7.0->google-auth-oauthlib<2,>=0.5->tensorboard<2.16,>=2.15->tensorflow) (3.2.2)\n"
          ]
        }
      ],
      "source": [
        "!pip install  tensorflow"
      ]
    },
    {
      "cell_type": "code",
      "source": [
        "from tensorflow.keras import datasets, layers, models\n",
        "import matplotlib.pyplot as plt\n",
        "import tensorflow as tf\n",
        "\n",
        "import numpy as np\n",
        "\n",
        "import seaborn as sns\n",
        "\n",
        "import pandas as pd"
      ],
      "metadata": {
        "id": "ugTV_N3z3hzo"
      },
      "execution_count": 1,
      "outputs": []
    },
    {
      "cell_type": "code",
      "source": [
        "logdir='log'"
      ],
      "metadata": {
        "id": "3DEqDk62MlUk"
      },
      "execution_count": 2,
      "outputs": []
    },
    {
      "cell_type": "code",
      "source": [
        "(train_images, train_labels), (test_images, test_labels) = datasets.mnist.load_data()\n",
        "\n",
        "train_images = train_images.reshape((60000, 28, 28, 1))\n",
        "test_images = test_images.reshape((10000, 28, 28, 1))\n",
        "\n",
        "train_images, test_images = train_images / 255.0, test_images / 255.0\n",
        "\n",
        "classes = [0,1,2,3,4,5,6,7,8,9]"
      ],
      "metadata": {
        "id": "gDpEqOnq4Tlv",
        "colab": {
          "base_uri": "https://localhost:8080/"
        },
        "outputId": "8998a82a-e09d-4146-ab3b-dc0cb0793b0d"
      },
      "execution_count": 3,
      "outputs": [
        {
          "output_type": "stream",
          "name": "stdout",
          "text": [
            "Downloading data from https://storage.googleapis.com/tensorflow/tf-keras-datasets/mnist.npz\n",
            "11490434/11490434 [==============================] - 0s 0us/step\n"
          ]
        }
      ]
    },
    {
      "cell_type": "markdown",
      "source": [],
      "metadata": {
        "id": "J0J0XAbv9s9f"
      }
    },
    {
      "cell_type": "code",
      "source": [
        "model = models.Sequential()\n",
        "model.add(layers.Conv2D(32, (3, 3), activation='relu', input_shape=(28,28,1)))\n",
        "model.add(layers.MaxPooling2D((2, 2)))\n",
        "model.add(layers.Conv2D(64, (3, 3), activation='relu'))\n",
        "model.add(layers.MaxPooling2D((2, 2)))\n",
        "model.add(layers.Conv2D(64, (3, 3), activation='relu'))\n",
        "\n",
        "model.add(layers.Flatten())\n",
        "model.add(layers.Dense(64, activation='relu'))\n",
        "model.add(layers.Dense(10, activation='softmax'))"
      ],
      "metadata": {
        "id": "FAz5Ov9s5aZ6"
      },
      "execution_count": 4,
      "outputs": []
    },
    {
      "cell_type": "code",
      "source": [
        "tensorboard_callback = tf.keras.callbacks.TensorBoard(logdir, histogram_freq=1)"
      ],
      "metadata": {
        "id": "zvsoJY-k6mcI"
      },
      "execution_count": 5,
      "outputs": []
    },
    {
      "cell_type": "code",
      "source": [
        "model.compile(optimizer='adam',\n",
        "              loss='sparse_categorical_crossentropy',\n",
        "              metrics=['accuracy'])\n",
        "\n",
        "model.fit(x=train_images,\n",
        "          y=train_labels,\n",
        "          epochs=5,\n",
        "          validation_data=(test_images, test_labels))"
      ],
      "metadata": {
        "id": "Xu4EqFb_7YbU",
        "colab": {
          "base_uri": "https://localhost:8080/"
        },
        "outputId": "015d2e6f-025a-4408-9da4-e732a5a8e047"
      },
      "execution_count": 6,
      "outputs": [
        {
          "output_type": "stream",
          "name": "stdout",
          "text": [
            "Epoch 1/5\n",
            "1875/1875 [==============================] - 69s 34ms/step - loss: 0.1435 - accuracy: 0.9559 - val_loss: 0.0555 - val_accuracy: 0.9829\n",
            "Epoch 2/5\n",
            "1875/1875 [==============================] - 53s 28ms/step - loss: 0.0452 - accuracy: 0.9861 - val_loss: 0.0394 - val_accuracy: 0.9879\n",
            "Epoch 3/5\n",
            "1875/1875 [==============================] - 53s 29ms/step - loss: 0.0326 - accuracy: 0.9899 - val_loss: 0.0359 - val_accuracy: 0.9889\n",
            "Epoch 4/5\n",
            "1875/1875 [==============================] - 54s 29ms/step - loss: 0.0248 - accuracy: 0.9919 - val_loss: 0.0322 - val_accuracy: 0.9900\n",
            "Epoch 5/5\n",
            "1875/1875 [==============================] - 53s 28ms/step - loss: 0.0200 - accuracy: 0.9937 - val_loss: 0.0323 - val_accuracy: 0.9893\n"
          ]
        },
        {
          "output_type": "execute_result",
          "data": {
            "text/plain": [
              "<keras.src.callbacks.History at 0x78b9c77c5780>"
            ]
          },
          "metadata": {},
          "execution_count": 6
        }
      ]
    },
    {
      "cell_type": "code",
      "source": [
        "y_true=test_labels\n",
        "y_pred=model.predict(test_images)\n",
        "y_predict=np.argmax(y_pred, axis=1)\n",
        "# classes_x=np.argmax(predict_x,axis=1)"
      ],
      "metadata": {
        "colab": {
          "base_uri": "https://localhost:8080/"
        },
        "id": "TOf2eWOfNkgo",
        "outputId": "e6834003-bbe6-44c1-ddeb-3061b2441036"
      },
      "execution_count": 7,
      "outputs": [
        {
          "output_type": "stream",
          "name": "stdout",
          "text": [
            "313/313 [==============================] - 4s 11ms/step\n"
          ]
        }
      ]
    },
    {
      "cell_type": "code",
      "source": [
        "classes=[0,1,2,3,4,5,6,7,8,9]"
      ],
      "metadata": {
        "id": "1JZCMXEiPRPM"
      },
      "execution_count": 8,
      "outputs": []
    },
    {
      "cell_type": "code",
      "source": [
        "con_mat = tf.math.confusion_matrix(labels=y_true, predictions=y_predict).numpy()\n",
        "# con_mat_norm = np.around(con_mat.asType('float') / con_mat.sum(axis=1)[1, np.newaxis], decimals=2)\n",
        "con_mat_norm = np.around(con_mat.astype('float') / con_mat.sum(axis=1)[:, np.newaxis], decimals=2)\n",
        "\n",
        "con_mat_df = pd.DataFrame(con_mat_norm,\n",
        "                          index=classes,\n",
        "                          columns=classes)\n",
        "\n",
        "figure = plt.figure(figsize=(8,8))\n",
        "sns.heatmap(con_mat_df, annot=True, cmap=plt.cm.Blues)\n",
        "plt.tight_layout()\n",
        "plt.ylabel('True label')\n",
        "plt.xlabel('Predict label')\n",
        "plt.show()\n"
      ],
      "metadata": {
        "colab": {
          "base_uri": "https://localhost:8080/",
          "height": 826
        },
        "id": "9vj1uCVqQZSa",
        "outputId": "8e6c5330-17ae-4d33-ff48-57906071bdc8"
      },
      "execution_count": 9,
      "outputs": [
        {
          "output_type": "display_data",
          "data": {
            "text/plain": [
              "<Figure size 800x800 with 2 Axes>"
            ],
            "image/png": "[encoded data removed]"
          },
          "metadata": {}
        }
      ]
    },
    {
      "cell_type": "code",
      "source": [
        "from sklearn.metrics import confusion_matrix, accuracy_score, recall_score, f1_score"
      ],
      "metadata": {
        "id": "XWU3lu1bDmaN"
      },
      "execution_count": 10,
      "outputs": []
    },
    {
      "cell_type": "code",
      "source": [
        "# Cálculo da acurácia\n",
        "correct_predictions = np.sum(y_predict == test_labels)\n",
        "accuracy = correct_predictions / len(test_images)\n",
        "print(accuracy)\n",
        "accuracy = accuracy_score(test_labels, y_predict)\n",
        "print('sklearn', accuracy)"
      ],
      "metadata": {
        "id": "6eZmtztpR94-",
        "colab": {
          "base_uri": "https://localhost:8080/"
        },
        "outputId": "58c913e0-10c4-4c76-8093-bcaf5a60f865"
      },
      "execution_count": 11,
      "outputs": [
        {
          "output_type": "stream",
          "name": "stdout",
          "text": [
            "0.9893\n",
            "sklearn 0.9893\n"
          ]
        }
      ]
    },
    {
      "cell_type": "code",
      "source": [
        "# Calculando a sensibilidade(recall)\n",
        "# Sem sklearn\n",
        "y_onehot = tf.one_hot(test_labels,10)  # convertendo as labels para one-hot econding\n",
        "tp = tf.math.reduce_sum(y_pred * y_onehot, axis=0) # Verdadeiros positivos por classe\n",
        "fn = tf.math.reduce_sum(y_onehot * (1 - y_pred), axis=0) # Falsos negativos por classe\n",
        "recall = tp / (tp + fn)\n",
        "# Com sklearn\n",
        "recall = recall_score(test_labels, y_predict, average=None)\n",
        "print(recall)"
      ],
      "metadata": {
        "id": "LU8CI6aFS7rX",
        "colab": {
          "base_uri": "https://localhost:8080/"
        },
        "outputId": "32255688-6938-4007-ce43-9239d950d7cf"
      },
      "execution_count": 12,
      "outputs": [
        {
          "output_type": "stream",
          "name": "stdout",
          "text": [
            "[0.99693878 0.99207048 0.99612403 0.99108911 0.97657841 0.98430493\n",
            " 0.99060543 0.99513619 0.98562628 0.98315164]\n"
          ]
        }
      ]
    },
    {
      "cell_type": "code",
      "source": [
        "# Calculo da precisão\n",
        "precision = tp / tf.math.reduce_sum(y_pred, axis=0)  # Precisao por classe\n",
        "print(precision)"
      ],
      "metadata": {
        "colab": {
          "base_uri": "https://localhost:8080/"
        },
        "id": "aCSmwjzTISs4",
        "outputId": "5b413318-cf00-4e1a-c20d-fc475c0870ca"
      },
      "execution_count": 13,
      "outputs": [
        {
          "output_type": "stream",
          "name": "stdout",
          "text": [
            "tf.Tensor(\n",
            "[0.9893974  0.99205446 0.983865   0.98659545 0.99255955 0.99003327\n",
            " 0.98620313 0.9786914  0.9907902  0.97731936], shape=(10,), dtype=float32)\n"
          ]
        }
      ]
    },
    {
      "cell_type": "code",
      "source": [
        "# Calculo da especificidade\n",
        "tn = tf.math.reduce_sum((1 - y_pred) * (1 - y_onehot), axis=0)  # Verdadeiros negativos por classe\n",
        "fp = tf.math.reduce_sum(y_pred * (1 - y_onehot), axis=0)  # Falsos positivos por classe\n",
        "specificity = tn / (tn + fp)\n",
        "print(specificity)"
      ],
      "metadata": {
        "colab": {
          "base_uri": "https://localhost:8080/"
        },
        "id": "ExQiN1MuIsLU",
        "outputId": "2695decd-5fb4-4eac-ce0c-279af9fd72d3"
      },
      "execution_count": 14,
      "outputs": [
        {
          "output_type": "stream",
          "name": "stdout",
          "text": [
            "tf.Tensor(\n",
            "[0.99884135 0.9989846  0.99812376 0.9984903  0.9992044  0.9990335\n",
            " 0.9985331  0.9975216  0.99901557 0.9974508 ], shape=(10,), dtype=float32)\n"
          ]
        }
      ]
    },
    {
      "cell_type": "code",
      "source": [
        "# Calcullo do F1-score\n",
        "precision = tp / tf.math.reduce_sum(y_pred, axis=0)  # Precisão por classe\n",
        "f1 = 2 * recall * precision / (recall + precision)  # F1-score por classe\n",
        "\n",
        "print(f\"Acurácia: {accuracy:.4f}\")\n",
        "print(f\"\\nRecall (Sensibilidade) por Classe:\")\n",
        "for i, c in enumerate(classes):\n",
        "  print(f\"  Class {c}: {recall[i]:.4f}\")\n",
        "\n",
        "print(f\"\\nPrecisão per Classe:\")\n",
        "for i, c in enumerate(classes):\n",
        "  print(f\" Class {c}: {precision[i]:.4f}\")\n",
        "\n",
        "\n",
        "print(\"\\nEspecificidade por Classe\")\n",
        "for i, c in enumerate(classes):\n",
        "  print(f\" Class {c}: {specificity[i]:.4f}\")\n",
        "\n",
        "\n",
        "print(f\"\\nF1-Score por Classe:\")\n",
        "for i, c in enumerate(classes):\n",
        "  print(f\"  Class {c}: {f1[i]:.4f}\")\n",
        "\n"
      ],
      "metadata": {
        "colab": {
          "base_uri": "https://localhost:8080/"
        },
        "id": "nPdUPuXXGO_6",
        "outputId": "eaccfc0b-4de3-4323-8280-b8dc49dab677"
      },
      "execution_count": 15,
      "outputs": [
        {
          "output_type": "stream",
          "name": "stdout",
          "text": [
            "Acurácia: 0.9893\n",
            "\n",
            "Recall (Sensibilidade) por Classe:\n",
            "  Class 0: 0.9969\n",
            "  Class 1: 0.9921\n",
            "  Class 2: 0.9961\n",
            "  Class 3: 0.9911\n",
            "  Class 4: 0.9766\n",
            "  Class 5: 0.9843\n",
            "  Class 6: 0.9906\n",
            "  Class 7: 0.9951\n",
            "  Class 8: 0.9856\n",
            "  Class 9: 0.9832\n",
            "\n",
            "Precisão per Classe:\n",
            " Class 0: 0.9894\n",
            " Class 1: 0.9921\n",
            " Class 2: 0.9839\n",
            " Class 3: 0.9866\n",
            " Class 4: 0.9926\n",
            " Class 5: 0.9900\n",
            " Class 6: 0.9862\n",
            " Class 7: 0.9787\n",
            " Class 8: 0.9908\n",
            " Class 9: 0.9773\n",
            "\n",
            "Especificidade por Classe\n",
            " Class 0: 0.9988\n",
            " Class 1: 0.9990\n",
            " Class 2: 0.9981\n",
            " Class 3: 0.9985\n",
            " Class 4: 0.9992\n",
            " Class 5: 0.9990\n",
            " Class 6: 0.9985\n",
            " Class 7: 0.9975\n",
            " Class 8: 0.9990\n",
            " Class 9: 0.9975\n",
            "\n",
            "F1-Score por Classe:\n",
            "  Class 0: 0.9932\n",
            "  Class 1: 0.9921\n",
            "  Class 2: 0.9900\n",
            "  Class 3: 0.9888\n",
            "  Class 4: 0.9845\n",
            "  Class 5: 0.9872\n",
            "  Class 6: 0.9884\n",
            "  Class 7: 0.9868\n",
            "  Class 8: 0.9882\n",
            "  Class 9: 0.9802\n"
          ]
        }
      ]
    },
    {
      "cell_type": "code",
      "source": [
        "# Gerando curva de ROC\n",
        "from sklearn.metrics import roc_curve, roc_auc_score"
      ],
      "metadata": {
        "id": "Ktn5twMsH2ay"
      },
      "execution_count": 16,
      "outputs": []
    },
    {
      "cell_type": "code",
      "source": [
        "# Calcule a pontuação ROC AUC para cada classe usando o parâmetro average=None\n",
        "roc_auc_scores = roc_auc_score(y_true, y_pred, average=None, multi_class='ovr')\n",
        "print(roc_auc_scores)\n",
        "\n",
        "# Calcule a média simples das pontuações ROC AUC usando o parâmetro average=macro\n",
        "roc_auc_mean = roc_auc_score(y_true, y_pred, average='macro', multi_class='ovr')\n",
        "print(roc_auc_mean)"
      ],
      "metadata": {
        "colab": {
          "base_uri": "https://localhost:8080/"
        },
        "id": "QCYH9LTltLvs",
        "outputId": "b048b602-dca5-4d7b-ca59-1c45e8554a45"
      },
      "execution_count": 21,
      "outputs": [
        {
          "output_type": "stream",
          "name": "stdout",
          "text": [
            "[0.99996007 0.99998012 0.99997007 0.99993414 0.99995664 0.99988073\n",
            " 0.99993535 0.99994015 0.9999222  0.99986982]\n",
            "0.9999349282624589\n"
          ]
        }
      ]
    },
    {
      "cell_type": "code",
      "source": [],
      "metadata": {
        "id": "TVXUbJisNdYr"
      },
      "execution_count": null,
      "outputs": []
    }
  ]
}